{
 "cells": [
  {
   "cell_type": "markdown",
   "metadata": {},
   "source": [
    "# Data Downloading, cleaning and storing in an excel file\n",
    "(Code requires chromedriver.exe to be installed in the working directory and requires selenium to be installed in anaconda)"
   ]
  },
  {
   "cell_type": "markdown",
   "metadata": {},
   "source": [
    "## Download Raw Medicaid Data"
   ]
  },
  {
   "cell_type": "markdown",
   "metadata": {},
   "source": [
    "Medicare_data: has been downloaded (using selenium) from https://www.macpac.gov/publication/medicaid-spending-by-state-category-and-source-of-funds/. The raw data is the file that gets downloaded from the website. The clean data is the subset of columns that we need for our project analysis. "
   ]
  },
  {
   "cell_type": "code",
   "execution_count": 1,
   "metadata": {},
   "outputs": [],
   "source": [
    "from selenium import webdriver\n",
    "import time\n",
    "import os\n",
    "\n",
    "path_medicare = os.path.abspath('.')\n",
    "\n",
    "chromeOptions = webdriver.ChromeOptions()\n",
    "prefs = {\"download.default_directory\" : path_medicare}\n",
    "chromeOptions.add_experimental_option(\"prefs\",prefs)\n",
    "\n",
    "medicare_driver = webdriver.Chrome(executable_path=r\"chromedriver.exe\", options=chromeOptions)\n",
    "medicare_driver.maximize_window()\n",
    "open_url=medicare_driver.get(\"https://www.macpac.gov/publication/medicaid-spending-by-state-category-and-source-of-funds/\")\n",
    "elem_file=medicare_driver.find_element_by_css_selector('#main > div > header > a:nth-of-type(1)')\n",
    "\n",
    "elem_file.click()\n",
    "time.sleep(3)\n",
    "medicare_driver.quit()"
   ]
  },
  {
   "cell_type": "markdown",
   "metadata": {},
   "source": [
    "## Clean Medicaid Data\n",
    "A few states have been removed due to the error encountered while scraping their vaccination data (see description of Vaccination Data section below)"
   ]
  },
  {
   "cell_type": "code",
   "execution_count": 2,
   "metadata": {},
   "outputs": [],
   "source": [
    "from openpyxl import load_workbook\n",
    "\n",
    "medicaid_data = load_workbook('EXHIBIT-16.-Medicaid-Spending-by-State-Category-and-Source-of-Funds-FY-2016-millions.xlsx')\n",
    "raw_sheet = medicaid_data['EX16- McaidSpend']\n",
    "#re-name sheet and label it as raw data\n",
    "raw_sheet.title = 'medicaid_raw'\n",
    "\n",
    "#Create a new sheet for the clean data and insert table titles\n",
    "clean_sheet = medicaid_data.create_sheet(\"medicaid_clean\")\n",
    "clean_sheet['A1']='State'\n",
    "clean_sheet['B1']='State Medicare Funding FY 2016'\n",
    "\n",
    "states_to_copy=['Massachusetts', 'Missouri', 'Kansas', 'Rhode Island', 'South Dakota', 'Georgia', 'New Jersey', 'Mississippi', 'Oklahoma', 'Nebraska', 'Virginia', 'North Carolina', 'Indiana', 'Maine', 'Utah', 'Wisconsin', 'Montana', 'Arkansas', 'Vermont', 'Delaware', 'New Mexico', 'Idaho', 'Illinois', 'Nevada', 'Pennsylvania', 'Oregon', 'South Carolina', 'Alaska', 'Alabama', 'Kentucky', 'Arizona', 'New Hampshire', 'Iowa', 'New York', 'Tennessee', 'Texas', 'West Virginia', 'California', 'Wyoming', 'North Dakota', 'Maryland', 'Colorado']\n",
    "\n",
    "#Copy the state name and the medicaid funding to the appropriate columns in the clean sheet\n",
    "state_count=2\n",
    "for row in raw_sheet['A5:L55']:\n",
    "    for cell in row:\n",
    "        if cell.value in states_to_copy:\n",
    "            clean_sheet['A{}'.format(state_count)]=cell.value\n",
    "            clean_sheet['B{}'.format(state_count)]=raw_sheet['L{}'.format(cell.row)].value\n",
    "            state_count+=1\n",
    "\n",
    "\n",
    "medicaid_data.save('group_04_data.xlsx')"
   ]
  },
  {
   "cell_type": "markdown",
   "metadata": {},
   "source": [
    "## Download Raw Vaccination Data "
   ]
  },
  {
   "cell_type": "markdown",
   "metadata": {},
   "source": [
    "Vaccination_data: has been web scraped from https://www.aap.org/en-us/advocacy-and-policy/aap-health-initiatives/immunizations/Pages/Across-America.aspx. The clean data is obtained by writing a python code that opens the website, clicks on a state, obtains the source code, scrapes the value under the heading “Combined 7-vaccine series in children 19-35 months old (Includes ≥4 DTaP doses, ≥3 Polio doses, ≥1 MMR dose, Hib full series, ≥3 HepB doses, ≥1 Varicella dose, and ≥4 PCV doses)”, \"Religious exemptions allowed?\", \"Philosophical exemptions allowed?\", then clicks the \"close button\" to close out the pop up, clicks on the next state and so on.\n",
    "This gives the % of children in that state who have received all 7-vaccines. The code also scrapes data about if religious and philosophical exemptions are allowed in the state.\n",
    "The raw data is the html parser obtained by clicking on Alaska. The desired value is in: \n",
    "\n",
    "(p) class=\"bar-value\">68.8%(/p) since 68.8% of children in Alaska were vaccinated for all 7 doses. A few states are not included in the file since those states have other clickable items(Eg: exclamation points) on the website. Due to this the program is not able to click on those states and retrieve the appropriate data."
   ]
  },
  {
   "cell_type": "code",
   "execution_count": 3,
   "metadata": {},
   "outputs": [],
   "source": [
    "import bs4\n",
    "import pandas as pd\n",
    "\n",
    "#open a web browser\n",
    "vacci_driver = webdriver.Chrome(executable_path=r\"chromedriver.exe\")\n",
    "vacci_driver.maximize_window()\n",
    "#open the url\n",
    "open_url=vacci_driver.get(\"https://www.aap.org/en-us/advocacy-and-policy/aap-health-initiatives/immunizations/Pages/Across-America.aspx\")\n",
    "#click on 'Alaska', obtain the source code and close browser\n",
    "elem_alaska=vacci_driver.find_element_by_css_selector('#svg-us > g.states-group > path[data-name=\"Alaska\"]')\n",
    "elem_alaska.click()\n",
    "alaska_html=vacci_driver.page_source\n",
    "vacci_driver.quit()\n",
    "#put the source code in the beautiful and pretify it\n",
    "alaska_soup=bs4.BeautifulSoup(alaska_html, \"html.parser\")\n",
    "alaska_soup_pretty=alaska_soup.prettify()\n",
    "\n",
    "#create a dataframe with the html parser and state name\n",
    "df_vacci_raw=pd.DataFrame(columns=['Sample State', 'Sample raw html parser'])\n",
    "df_vacci_raw=df_vacci_raw.append({'Sample State': 'Alaska', 'Sample raw html parser': str(alaska_soup_pretty)}, ignore_index=True)\n",
    "\n",
    "#write the dataframe to excel file\n",
    "current_book = load_workbook('group_04_data.xlsx')\n",
    "vacci_writer=pd.ExcelWriter('group_04_data.xlsx', engine='openpyxl')\n",
    "vacci_writer.book=current_book\n",
    "df_vacci_raw.to_excel(vacci_writer, 'vaccination_raw', index=False)\n",
    "\n",
    "vacci_writer.save()"
   ]
  },
  {
   "cell_type": "markdown",
   "metadata": {},
   "source": [
    "## Clean Vaccination Data"
   ]
  },
  {
   "cell_type": "code",
   "execution_count": 4,
   "metadata": {},
   "outputs": [],
   "source": [
    "#Get a list of all the states for which the website has vaccination data\n",
    "states_driver = webdriver.Chrome(executable_path=r\"chromedriver.exe\")\n",
    "states_driver.get(\"https://www.aap.org/en-us/advocacy-and-policy/aap-health-initiatives/immunizations/Pages/Across-America.aspx\")\n",
    "\n",
    "html_for_states=states_driver.page_source\n",
    "\n",
    "states_driver.quit()\n",
    "state_soup=bs4.BeautifulSoup(html_for_states, \"html.parser\")\n",
    "states=state_soup.select('#svg-us > g.states-group > path')\n",
    "\n",
    "states_list=[]\n",
    "for i in range(len(states)-1):\n",
    "    new_state=states[i].get('data-name')\n",
    "    states_list.append(new_state)\n",
    "\n",
    "#Eliminate States that are throwing errors\n",
    "states_not_working=['Connecticut', 'District of Columbia', 'Florida', 'Hawaii', 'Louisiana', 'Michigan', 'Minnesota', 'Ohio', 'Washington']\n",
    "states_to_scrape=list(set(states_list) - set(states_not_working))\n",
    "\n",
    "\n",
    "#Create an empty dataframe that will store scraped data\n",
    "df_vacci_clean=pd.DataFrame(columns=['State','%Children with combined 7-vaccine series','Religious Exemption allowed?', 'Philosophical Exemption allowed?'])\n",
    "\n",
    "\n",
    "#Open a browser, click on every state, obtain the source code, pull the % of children vaccinated/exemptions allowed, click on the close button, click on the next state and repeat\n",
    "vacci_clean_driver = webdriver.Chrome(executable_path=r\"chromedriver.exe\")\n",
    "vacci_clean_driver.maximize_window()\n",
    "vacci_clean_driver.get(\"https://www.aap.org/en-us/advocacy-and-policy/aap-health-initiatives/immunizations/Pages/Across-America.aspx\")\n",
    "\n",
    "for statename in states_to_scrape:\n",
    "    str1 = \"#svg-us > g.states-group > path[data-name=\\\"\"+statename +\"\\\"]\"\n",
    "    to_click = vacci_clean_driver.find_element_by_css_selector(str1)\n",
    "    to_click.click()\n",
    "    data_html=vacci_clean_driver.page_source\n",
    "    to_close=vacci_clean_driver.find_element_by_css_selector('#vaccination-ig > div.close-btn > img')\n",
    "    to_close.click()\n",
    "\n",
    "    data_soup=bs4.BeautifulSoup(data_html, \"html.parser\")\n",
    "    statistic_data_point=data_soup.select('#states-national-ig > div.chart-wrap > div:nth-of-type(3) > div:nth-of-type(2) > div.bar-chart.state-bar > p')\n",
    "    statistic=statistic_data_point[0].getText()\n",
    "\n",
    "    religious_data_point = data_soup.select('#vaccination-ig > div.exemptions-section > div:nth-of-type(2) > p.circle')\n",
    "    religious_stat=religious_data_point[0].getText()\n",
    "\n",
    "    philosophical_data_point = data_soup.select('#vaccination-ig > div.exemptions-section > div:nth-of-type(3) > p.circle')\n",
    "    philosophical_stat=philosophical_data_point[0].getText()\n",
    "#Store data points in the 'df_vacci_clean' dataframe \n",
    "    df_vacci_clean = df_vacci_clean.append({'State': statename, '%Children with combined 7-vaccine series': statistic, 'Religious Exemption allowed?': religious_stat, 'Philosophical Exemption allowed?': philosophical_stat},ignore_index=True)\n",
    "\n",
    "vacci_clean_driver.quit()\n",
    "\n",
    "#store dataframe to excel\n",
    "current_book = load_workbook('group_04_data.xlsx')\n",
    "vacci_clean_writer=pd.ExcelWriter('group_04_data.xlsx', engine='openpyxl')\n",
    "vacci_clean_writer.book=current_book\n",
    "df_vacci_clean.to_excel(vacci_clean_writer, 'vaccination_clean', index=False)\n",
    "\n",
    "vacci_clean_writer.save()\n",
    "\n"
   ]
  },
  {
   "cell_type": "markdown",
   "metadata": {},
   "source": [
    "## Download Education Data"
   ]
  },
  {
   "cell_type": "markdown",
   "metadata": {},
   "source": [
    "We are pulling the Public School Enrollment in 2013-14 data from the Civil Rights Data Collection (CRDC) using the CRDC API. This dataset gives information about the number of students enrolled in public education in 2013-14 by race/ethnicity, gender and program status. \n",
    "Since we are looking at different factors having an effect on immunization rates per state, one of the factors we decided to look at was the school enrollment per state which can be a good estimator of the importance of education in a state. Thus, we are pulling the total number of public school enrollments per state using the CRDC API to include in our analysis. APIs for later years weren’t available so we decided to use the 2013-14 data as a good estimate of the total public school enrollments. \n",
    "CRDC API: api.ed.gov/data/crdc_enrollment_2013-14?api_key=DEMO_KEY1"
   ]
  },
  {
   "cell_type": "code",
   "execution_count": 5,
   "metadata": {},
   "outputs": [],
   "source": [
    "from urllib.request import urlopen\n",
    "import json\n",
    "import numpy as np\n",
    "\n",
    "#Pulling data from the API\n",
    "data_set = []\n",
    "for i in range(1,11):\n",
    "    url = 'https://api.ed.gov/data/crdc_enrollment_2013-14?per_page=10000&page=' + str(i) + '&api_key=FYOEBgpdzH5lF3mnd3Zpgho5IXUF1RhA05iBIoRR'\n",
    "    r = urlopen(url).read().decode('UTF-8')\n",
    "    raw = json.loads(r)\n",
    "    final = raw['resources']\n",
    "    for resources in final:\n",
    "        data_set.append(resources)\n",
    "\n",
    "#Selecting keys and values we need \n",
    "new = []\n",
    "for object in data_set:\n",
    "    keys = ['LEA_STATE', 'SCH_NAME', 'LEA_NAME', 'TOT_ENR_F', 'TOT_ENR_M']\n",
    "    new1 = [object[k] for k in keys]\n",
    "    new.append(new1)\n",
    "\n",
    "#Converting list to array to dataframe\n",
    "new_array = np.asarray(new)\n",
    "new_array.reshape((95507,5))\n",
    "new_array2 = pd.DataFrame(new_array)\n",
    "new_df = pd.DataFrame(new_array, columns=['State', 'Sch_Name', 'Lea_Name', 'Tot_F', 'Tot_M'])\n",
    "df_edu = pd.DataFrame()\n",
    "df_edu[['State', 'Tot_F', 'Tot_M']] = new_df[['State', 'Tot_F', 'Tot_M']]\n",
    "df_edu['Tot_F'] = df_edu['Tot_F'].astype(np.int64)\n",
    "df_edu['Tot_M'] = df_edu['Tot_M'].astype(np.int64)\n",
    "df_edu = df_edu.groupby(['State'], as_index=False).sum()\n",
    "\n",
    "#Writing to excel\n",
    "current_book = load_workbook('group_04_data.xlsx')\n",
    "edu_writer=pd.ExcelWriter('group_04_data.xlsx', engine='openpyxl')\n",
    "edu_writer.book=current_book\n",
    "#write raw data to excel\n",
    "new_df.to_excel(edu_writer, 'education_test', index=False)\n",
    "new_array2.to_excel(edu_writer, 'education_raw', index=False)\n",
    "#write clean data to excel\n",
    "df_edu.to_excel(edu_writer, 'education_clean', index=False)\n",
    "\n",
    "edu_writer.save()"
   ]
  },
  {
   "cell_type": "markdown",
   "metadata": {},
   "source": [
    "# Data Vizualization and Interpretation"
   ]
  },
  {
   "cell_type": "markdown",
   "metadata": {},
   "source": [
    "## Preparing a singletable that contains all (medicaid, education and vaccination) data "
   ]
  },
  {
   "cell_type": "code",
   "execution_count": 6,
   "metadata": {},
   "outputs": [],
   "source": [
    "#Abbreviating State name\n",
    "us_state_abbrev = {'Alabama': 'AL','Alaska': 'AK','Arizona': 'AZ','Arkansas': 'AR','California': 'CA','Colorado': 'CO','Connecticut': 'CT','Delaware': 'DE','Florida': 'FL','Georgia': 'GA','Hawaii': 'HI','Idaho': 'ID','Illinois': 'IL','Indiana': 'IN','Iowa': 'IA','Kansas': 'KS','Kentucky': 'KY','Louisiana': 'LA','Maine': 'ME','Maryland': 'MD','Massachusetts': 'MA','Michigan': 'MI','Minnesota': 'MN','Mississippi': 'MS','Missouri': 'MO','Montana': 'MT','Nebraska': 'NE','Nevada': 'NV','New Hampshire': 'NH','New Jersey': 'NJ','New Mexico': 'NM','New York': 'NY','North Carolina': 'NC','North Dakota': 'ND','Ohio': 'OH','Oklahoma': 'OK','Oregon': 'OR','Pennsylvania': 'PA','Rhode Island': 'RI','South Carolina': 'SC','South Dakota': 'SD','Tennessee': 'TN','Texas': 'TX','Utah': 'UT','Vermont': 'VT','Virginia': 'VA','Washington': 'WA','West Virginia': 'WV','Wisconsin': 'WI','Wyoming': 'WY'}\n",
    "\n",
    "df_medicaid = pd.read_excel(\"group_04_data.xlsx\", sheet_name='medicaid_clean')\n",
    "df_medicaid=df_medicaid.replace({\"State\": us_state_abbrev})\n",
    "df_vacci_clean=df_vacci_clean.replace({\"State\": us_state_abbrev})"
   ]
  },
  {
   "cell_type": "code",
   "execution_count": 7,
   "metadata": {},
   "outputs": [],
   "source": [
    "#Preparing a single table that contains all data\n",
    "df_to_visualize=df_medicaid.merge(df_vacci_clean, on='State')\n",
    "df_to_visualize=df_to_visualize.merge(df_edu, on='State',how='left')"
   ]
  },
  {
   "cell_type": "code",
   "execution_count": 8,
   "metadata": {},
   "outputs": [],
   "source": [
    "#Strip % so that the %of children vaccinated is just a number(Eg: make 68.8% to 68.8)\n",
    "df_to_visualize['%Children with combined 7-vaccine series']=df_to_visualize['%Children with combined 7-vaccine series'].str.rstrip('%')\n",
    "#Changing datatypes for ease of visualization\n",
    "df_to_visualize['%Children with combined 7-vaccine series'] = df_to_visualize['%Children with combined 7-vaccine series'].astype(np.float64)\n"
   ]
  },
  {
   "cell_type": "code",
   "execution_count": 9,
   "metadata": {},
   "outputs": [],
   "source": [
    "#Making the data within each column consistent\n",
    "df_to_visualize.replace(to_replace=\"Yes (day, nursery, and preschools only)\", value=\"Yes\", inplace=True)"
   ]
  },
  {
   "cell_type": "code",
   "execution_count": 16,
   "metadata": {},
   "outputs": [
    {
     "name": "stdout",
     "output_type": "stream",
     "text": [
      "<seaborn.axisgrid.FacetGrid object at 0x0000022CB96E72E8>\n"
     ]
    },
    {
     "data": {
      "image/png": "[encoded data removed]",
      "text/plain": [
       "<matplotlib.figure.Figure at 0x22cb96e7080>"
      ]
     },
     "metadata": {},
     "output_type": "display_data"
    }
   ],
   "source": [
    "#Vaccination% against Medicaid Spending\n",
    "import seaborn as sns\n",
    "print(sns.lmplot(x='%Children with combined 7-vaccine series', y='State Medicare Funding FY 2016',data=df_to_visualize, fit_reg=False))"
   ]
  },
  {
   "cell_type": "markdown",
   "metadata": {},
   "source": [
    "The graph above shows no trend between State Medicaid Funding and % children vaccinated. The following can be seen in the graph:\n",
    "1.\tStates with higher vaccination rates(>75%) have less than $10,000 Medicaid funding \n",
    "2.\tStates with lower vaccination rates (<75%) have a mix of more than $10,000 and less than $10,000 in Medicaid funding\n",
    "3.\tStates with higher Medicaid funding (>$10,000) have lower vaccination rates (<75%)\n",
    "4.\tStates with lower Medicaid funding (<$10,000) have a mix of lower and higher vaccination rates\n",
    "Thus, we see that while there is an inverse trend indicated by 1 and 3, there is no trend across the entire graph/data. Therefore, we can conclude that State Medicaid Funding is not correlated with vaccination rates.\n"
   ]
  },
  {
   "cell_type": "code",
   "execution_count": 12,
   "metadata": {},
   "outputs": [
    {
     "name": "stdout",
     "output_type": "stream",
     "text": [
      "<seaborn.axisgrid.FacetGrid object at 0x0000022CB95ED518>\n"
     ]
    },
    {
     "data": {
      "image/png": "[encoded data removed]",
      "text/plain": [
       "<matplotlib.figure.Figure at 0x22cb95ed5f8>"
      ]
     },
     "metadata": {},
     "output_type": "display_data"
    }
   ],
   "source": [
    "#Vaccination% against Medicaid Spending sorted by Religious Exemptions\n",
    "print(sns.lmplot(x='%Children with combined 7-vaccine series', y='State Medicare Funding FY 2016',data=df_to_visualize, fit_reg=False, hue='Religious Exemption allowed?', palette=\"PuRd\"))"
   ]
  },
  {
   "cell_type": "code",
   "execution_count": 13,
   "metadata": {},
   "outputs": [
    {
     "name": "stdout",
     "output_type": "stream",
     "text": [
      "<seaborn.axisgrid.FacetGrid object at 0x0000022CB9618AC8>\n"
     ]
    },
    {
     "data": {
      "image/png": "[encoded data removed]",
      "text/plain": [
       "<matplotlib.figure.Figure at 0x22cb960cf60>"
      ]
     },
     "metadata": {},
     "output_type": "display_data"
    }
   ],
   "source": [
    "#Vaccination% against Medicaid Spending sorted by Philosophical Exemptions\n",
    "print(sns.lmplot(x='%Children with combined 7-vaccine series', y='State Medicare Funding FY 2016',data=df_to_visualize, fit_reg=False, hue='Philosophical Exemption allowed?', palette=\"YlGnBu\"))"
   ]
  },
  {
   "cell_type": "markdown",
   "metadata": {},
   "source": [
    "Among the states with and without religious exemptions, there is once again a lack of trend between the State Medicaid Funding and % children vaccinated. The same applies to states with and without philosophical exemptions. Thus, segregating the data by exemptions reinforces the lack of trend between State Medicaid Funding and % children vaccinated."
   ]
  },
  {
   "cell_type": "code",
   "execution_count": 14,
   "metadata": {},
   "outputs": [
    {
     "data": {
      "image/png": "[encoded data removed]",
      "text/plain": [
       "<matplotlib.figure.Figure at 0x22cb963f6a0>"
      ]
     },
     "metadata": {},
     "output_type": "display_data"
    }
   ],
   "source": [
    "#Religious Exemptions plotted against avg%children vaccinated\n",
    "ax_religious=sns.barplot(x='Religious Exemption allowed?', y='%Children with combined 7-vaccine series', data=df_to_visualize,palette=\"PuRd\", errwidth=0)\n",
    "for p in ax_religious.patches:\n",
    "    ax_religious.text(p.get_x() + p.get_width()/2., p.get_height(), '%d' % int(p.get_height()), \n",
    "            fontsize=12, color='black', ha='center', va='bottom')\n"
   ]
  },
  {
   "cell_type": "markdown",
   "metadata": {},
   "source": [
    "In the bar chart above, we observe that religious exemptions do not encourage lower vaccination rates (as opposed to intuition). The average %children vaccinated is higher for states that do allow for religious exemptions. This is probably due to the large difference in the number of states in the states with(n=39) and without(n=3) religious exemptions. "
   ]
  },
  {
   "cell_type": "code",
   "execution_count": 15,
   "metadata": {},
   "outputs": [
    {
     "data": {
      "image/png": "[encoded data removed]",
      "text/plain": [
       "<matplotlib.figure.Figure at 0x22cb95a9d30>"
      ]
     },
     "metadata": {},
     "output_type": "display_data"
    }
   ],
   "source": [
    "#Philosophical Exemptions plotted against avg%children vaccinated\n",
    "ax_philosophical=sns.barplot(x='Philosophical Exemption allowed?', y='%Children with combined 7-vaccine series', data=df_to_visualize, palette=\"YlGnBu\", errwidth=0)\n",
    "for p in ax_philosophical.patches:\n",
    "    ax_philosophical.text(p.get_x() + p.get_width()/2., p.get_height(), '%d' % int(p.get_height()), \n",
    "            fontsize=12, color='black', ha='center', va='bottom')"
   ]
  },
  {
   "cell_type": "markdown",
   "metadata": {},
   "source": [
    "In the bar chart above, we see that the states with philosophical exemptions have a lower average %children vaccinated. In order to determine if the difference is statistically significant, we need to find out the p-value."
   ]
  },
  {
   "cell_type": "code",
   "execution_count": 30,
   "metadata": {},
   "outputs": [
    {
     "name": "stdout",
     "output_type": "stream",
     "text": [
      "p-value = 0.261\n"
     ]
    }
   ],
   "source": [
    "#finding p-value to see if the difference is statistically different\n",
    "import scipy.stats as stats\n",
    "df_with_phil_exemption= df_to_visualize[df_to_visualize['Philosophical Exemption allowed?'] == 'Yes']\n",
    "sample_with_exemption=list(df_with_phil_exemption['%Children with combined 7-vaccine series'])\n",
    "df_no_phil_exemption= df_to_visualize[df_to_visualize['Philosophical Exemption allowed?'] == 'No']\n",
    "sample_no_exemption=list(df_no_phil_exemption['%Children with combined 7-vaccine series'])\n",
    "t_val, p_val=stats.ttest_ind(sample_with_exemption, sample_no_exemption)\n",
    "print (\"p-value =\",\"%.3f\" % p_val)"
   ]
  },
  {
   "cell_type": "markdown",
   "metadata": {},
   "source": [
    "The p-value is 0.26 which is much greater than 0.05. This means that the difference between the two groups have more than a 5% probability of occurring by chance alone. Thus, the difference between the average %children vaccinated between states with and without philosophical exemptions is not significant. This tells us that allowing for philosophical exemptions does not influence the % children vaccinated. "
   ]
  },
  {
   "cell_type": "markdown",
   "metadata": {},
   "source": [
    "Project Summary:"
   ]
  },
  {
   "cell_type": "markdown",
   "metadata": {},
   "source": [
    "Reflection of group members: \n",
    "Ayushi: I started off in the class with no experience in python and had taken an introductory course in SQL programming before. The first few course modules helped me get comfortable with python and after the first two weeks I started to enjoy coding in python. The class labs helped me with understanding the nuances of certain functions but it was the project that helped me code in a specific context to achieve a tangible goal. \n",
    "I remember sitting down in office hours and going over the interactive nature of one of my website data sources and how beautiful soup would be inadequate to extract data from the web page (https://www.aap.org/en-us/advocacy-and-policy/aap-health-initiatives/immunizations/Pages/Across-America.aspx). While the final excel is a clean and organized data that seems only “moderately complex”, obtaining the data took me a couple of weeks. The website uses a javascript at the back end and extracting information from there wasn’t really an option. That is when I decided to learn and use the selenium library to automate the process of clicking on a state, obtaining the source code, closing out of that pop up, clicking on the next state and so on. My selenium experience was both challenging and rewarding but it helped me understand the infinite possibilities within the world of data scraping. \n",
    "This course has helped me appreciate python, its advantages and its use in healthcare. As an aspiring healthcare data analyst, I am glad I took this course and chose vaccination as my project topic.\n"
   ]
  }
 ],
 "metadata": {
  "kernelspec": {
   "display_name": "Python 3",
   "language": "python",
   "name": "python3"
  },
  "language_info": {
   "codemirror_mode": {
    "name": "ipython",
    "version": 3
   },
   "file_extension": ".py",
   "mimetype": "text/x-python",
   "name": "python",
   "nbconvert_exporter": "python",
   "pygments_lexer": "ipython3",
   "version": "3.6.4"
  }
 },
 "nbformat": 4,
 "nbformat_minor": 2
}
