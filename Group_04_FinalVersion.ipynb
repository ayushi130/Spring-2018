{
 "cells": [
  {
   "cell_type": "markdown",
   "metadata": {},
   "source": [
    "# ImmuneBoosters Inc. \n",
    "## Group 4 - Final Project"
   ]
  },
  {
   "cell_type": "markdown",
   "metadata": {},
   "source": [
    "# Table of Contents\n",
    "1. Introduction\n",
    "2. Data Downloading, cleaning and storing in an excel file\n",
    "3. Data Visualization and Interpretation\n",
    "4. Project Summary\n",
    "5. Lessons Learnt"
   ]
  },
  {
   "cell_type": "markdown",
   "metadata": {},
   "source": [
    "# 1. Introduction\n",
    "Our project develops a platform called Immuneboosters which automates the process of obtaining Medicaid Spending data, data on social determinants of health and immunization rates in the United States. Once the data is obtained, the platform combines these different data sources to form a comprehensive dataset. This final dataset is used to perform exploratory data analysis (EDA) and validatory correlation tests to understand the effect of various factors on immunization rates in the United States.\n",
    "Our Jupyter notebook will walk you through the process in a step-by-step manner."
   ]
  },
  {
   "cell_type": "markdown",
   "metadata": {},
   "source": [
    "# 2. Data Downloading, cleaning and storing in an excel file\n",
    "__NOTE: Code requires chromedriver.exe to be installed in the working directory and requires selenium to be installed in anaconda__\n",
    "\n",
    "This step automates the process of pulling data from various internet sources. In our project, we will be looking at the effect of social determinants like Religious Exemptions, Philosophical Exemptions, Education, as well as Medicaid Spending data on immunization rates across different states within the U.S.A.\n",
    "Our data was pulled using three different data sources: Web Scrapped data, Web API pulled data and Web downloaded excel sheet."
   ]
  },
  {
   "cell_type": "markdown",
   "metadata": {},
   "source": [
    "## 2.1.a Download Raw Medicaid Spending Data"
   ]
  },
  {
   "cell_type": "markdown",
   "metadata": {},
   "source": [
    "Medicaid Spending data has been downloaded (using selenium) from https://www.macpac.gov/publication/medicaid-spending-by-state-category-and-source-of-funds/. The raw data is the file that gets downloaded from the website."
   ]
  },
  {
   "cell_type": "code",
   "execution_count": 9,
   "metadata": {},
   "outputs": [],
   "source": [
    "from selenium import webdriver\n",
    "import time\n",
    "import os\n",
    "\n",
    "path_medicare = os.path.abspath('.')\n",
    "\n",
    "chromeOptions = webdriver.ChromeOptions()\n",
    "prefs = {\"download.default_directory\" : path_medicare}\n",
    "chromeOptions.add_experimental_option(\"prefs\",prefs)\n",
    "\n",
    "medicare_driver = webdriver.Chrome(executable_path=r\"chromedriver.exe\", options=chromeOptions)\n",
    "medicare_driver.maximize_window()\n",
    "open_url=medicare_driver.get(\"https://www.macpac.gov/publication/medicaid-spending-by-state-category-and-source-of-funds/\")\n",
    "elem_file=medicare_driver.find_element_by_css_selector('#main > div > header > a:nth-of-type(1)')\n",
    "\n",
    "elem_file.click()\n",
    "time.sleep(3)\n",
    "medicare_driver.quit()"
   ]
  },
  {
   "cell_type": "markdown",
   "metadata": {},
   "source": [
    "## 2.1.b Clean Medicaid Data\n",
    "The clean data is the subset of columns that we need for our project analysis. \n",
    "A few states have been removed due to the error encountered while scraping their vaccination rates data (see description of Vaccination Data section below). This subsetted clean data is stored in the form on an Excel workbook on the user's PC."
   ]
  },
  {
   "cell_type": "code",
   "execution_count": 10,
   "metadata": {},
   "outputs": [],
   "source": [
    "from openpyxl import load_workbook\n",
    "from openpyxl.styles import Alignment\n",
    "from openpyxl.styles import Font\n",
    "\n",
    "medicaid_data = load_workbook('EXHIBIT-16.-Medicaid-Spending-by-State-Category-and-Source-of-Funds-FY-2016-millions.xlsx')\n",
    "raw_sheet = medicaid_data['EX16- McaidSpend']\n",
    "#Re-name sheet and label it as raw data\n",
    "raw_sheet.title = 'medicaid_raw'\n",
    "\n",
    "#Create a new sheet for the clean data and insert table titles\n",
    "clean_sheet = medicaid_data.create_sheet(\"medicaid_clean\")\n",
    "clean_sheet['A1']='State'\n",
    "clean_sheet['B1']='State Medicare Funding FY 2016'\n",
    "\n",
    "states_to_copy=['Massachusetts', 'Missouri', 'Kansas', 'Rhode Island', 'South Dakota', 'Georgia', 'New Jersey', 'Mississippi', 'Oklahoma', 'Nebraska', 'Virginia', 'North Carolina', 'Indiana', 'Maine', 'Utah', 'Wisconsin', 'Montana', 'Arkansas', 'Vermont', 'Delaware', 'New Mexico', 'Idaho', 'Illinois', 'Nevada', 'Pennsylvania', 'Oregon', 'South Carolina', 'Alaska', 'Alabama', 'Kentucky', 'Arizona', 'New Hampshire', 'Iowa', 'New York', 'Tennessee', 'Texas', 'West Virginia', 'California', 'Wyoming', 'North Dakota', 'Maryland', 'Colorado']\n",
    "\n",
    "#Copy the state name and the medicaid funding to the appropriate columns in the clean sheet\n",
    "state_count=2\n",
    "for row in raw_sheet['A5:L55']:\n",
    "    for cell in row:\n",
    "        if cell.value in states_to_copy:\n",
    "            clean_sheet['A{}'.format(state_count)]=cell.value\n",
    "            clean_sheet['B{}'.format(state_count)]=raw_sheet['L{}'.format(cell.row)].value\n",
    "            state_count+=1\n",
    "            \n",
    "#Inserting a cover sheet\n",
    "cover_sheet=medicaid_data.create_sheet(\"cover sheet\", 0)\n",
    "cover_sheet['A1']='Group 4:'\n",
    "cover_sheet['A1'].font = Font(bold=True)\n",
    "cover_sheet['B1']='Ayushi Dwivedi, Aarti Pandit'\n",
    "cover_sheet['A3']='Data Description:'\n",
    "cover_sheet['A3'].font = Font(bold=True)\n",
    "cover_sheet.merge_cells('A4:M7')\n",
    "cover_sheet['A4'].alignment = Alignment(wrapText=True)\n",
    "cover_sheet['A4']='Medicaid Spending data: has been downloaded (using selenium) from https://www.macpac.gov/publication/medicaid-spending-by-state-category-and-source-of-funds/. The raw data is the file that gets downloaded from the website. The clean data is the subset of columns that we need for our project analysis. A few states have been removed due to the error encountered while scraping their vaccination rates data (see description of Vaccination Data section below).'\n",
    "cover_sheet.merge_cells('A9:M18')\n",
    "cover_sheet['A9'].alignment = Alignment(wrapText=True)\n",
    "cover_sheet['A9']='Vaccination data: vaccination rates data has been web scraped from https://www.aap.org/en-us/advocacy-and-policy/aap-health-initiatives/immunizations/Pages/Across-America.aspx. The clean data is obtained by writing a python code that opens the website, clicks on a state, obtains the source code, scrapes the value under the heading “Combined 7-vaccine series in children 19-35 months old (Includes ≥4 DTaP doses, ≥3 Polio doses, ≥1 MMR dose, Hib full series, ≥3 HepB doses, ≥1 Varicella dose, and ≥4 PCV doses)”, \"Religious exemptions allowed?\", \"Philosophical exemptions allowed?\", then clicks the \"close button\" to close out the pop up, clicks on the next state and so on. This gives the % of children in that state who have received all 7-vaccines. The code also scrapes data about if religious and philosophical exemptions are allowed in the state. The raw data is the html parser obtained by clicking on Alaska. The desired value is in: (p) class=\"bar-value\">68.8%(/p) since 68.8% of children in Alaska were vaccinated for all 7 doses. A few states are not included in the file since those states have other clickable items(Eg: exclamation points) on the website. Due to this the program is not able to click on those states and retrieve the appropriate data.'\n",
    "cover_sheet.merge_cells('A20:M26')\n",
    "cover_sheet['A20'].alignment = Alignment(wrapText=True)\n",
    "cover_sheet['A20']='Education data: We are pulling the Public School Enrollment in 2013-14 data from the Civil Rights Data Collection (CRDC) using the CRDC API : https://api.ed.gov/data/crdc_enrollment_2013-14?per_page=100&api_key=FYOEBgpdzH5lF3mnd3Zpgho5IXUF1RhA05iBIoRR. This dataset gives information about the number of students enrolled in public education in 2013-14 by race/ethnicity, gender and program status. Since we are looking at different factors having an effect on immunization rates per state, one of the factors we decided to look at was the school enrollment per state data which can be a good estimator of the importance of education in a state. Thus, we are pulling the total number of public school enrollments per state using the CRDC API to include in our analysis. APIs for later years weren’t available so we decided to use the 2013-14 data as a good estimate of the total public school enrollments.'\n",
    "\n",
    "medicaid_data.save('group_04_data.xlsx')"
   ]
  },
  {
   "cell_type": "markdown",
   "metadata": {},
   "source": [
    "## 2.2.a Download Raw Vaccination Data "
   ]
  },
  {
   "cell_type": "markdown",
   "metadata": {},
   "source": [
    "Vaccination rates data has been web scraped from https://www.aap.org/en-us/advocacy-and-policy/aap-health-initiatives/immunizations/Pages/Across-America.aspx. The clean data is obtained by writing a python code that opens the website, clicks on a state, obtains the source code, scrapes the value under the heading “Combined 7-vaccine series in children 19-35 months old (Includes ≥4 DTaP doses, ≥3 Polio doses, ≥1 MMR dose, Hib full series, ≥3 HepB doses, ≥1 Varicella dose, and ≥4 PCV doses)”, \"Religious exemptions allowed?\", \"Philosophical exemptions allowed?\", then clicks the \"close button\" to close out the pop up, clicks on the next state and so on.\n",
    "This gives the % of children in that state who have received all 7-vaccines. The code also scrapes data about if religious and philosophical exemptions are allowed in the state.\n",
    "The raw data is a sample html parser obtained by clicking on Alaska. The desired value is in: \n",
    "(p) class=\"bar-value\">68.8%(/p) since 68.8% of children in Alaska were vaccinated for all 7 doses. A few states are not included in the file since those states have other clickable items(Eg: exclamation points) on the website. Due to this the program is not able to click on those states and retrieve the appropriate data.\n",
    "This clean vaccination data gets stored in the same Excel workbook created earlier. "
   ]
  },
  {
   "cell_type": "code",
   "execution_count": 11,
   "metadata": {},
   "outputs": [],
   "source": [
    "import bs4\n",
    "import pandas as pd\n",
    "\n",
    "#Open a web browser\n",
    "vacci_driver = webdriver.Chrome(executable_path=r\"chromedriver.exe\")\n",
    "vacci_driver.maximize_window()\n",
    "#Open the url\n",
    "open_url=vacci_driver.get(\"https://www.aap.org/en-us/advocacy-and-policy/aap-health-initiatives/immunizations/Pages/Across-America.aspx\")\n",
    "#Click on 'Alaska', obtain the source code and close browser\n",
    "elem_alaska=vacci_driver.find_element_by_css_selector('#svg-us > g.states-group > path[data-name=\"Alaska\"]')\n",
    "elem_alaska.click()\n",
    "alaska_html=vacci_driver.page_source\n",
    "vacci_driver.quit()\n",
    "#Put the source code in the beautiful and prettify it\n",
    "alaska_soup=bs4.BeautifulSoup(alaska_html, \"html.parser\")\n",
    "alaska_soup_pretty=alaska_soup.prettify()\n",
    "\n",
    "#Create a dataframe with the html parser and state name\n",
    "df_vacci_raw=pd.DataFrame(columns=['Sample State', 'Sample raw html parser'])\n",
    "df_vacci_raw=df_vacci_raw.append({'Sample State': 'Alaska', 'Sample raw html parser': str(alaska_soup_pretty)}, ignore_index=True)\n",
    "\n",
    "#Write the dataframe to excel file\n",
    "current_book = load_workbook('group_04_data.xlsx')\n",
    "vacci_writer=pd.ExcelWriter('group_04_data.xlsx', engine='openpyxl')\n",
    "vacci_writer.book=current_book\n",
    "df_vacci_raw.to_excel(vacci_writer, 'vaccination_raw', index=False)\n",
    "\n",
    "vacci_writer.save()"
   ]
  },
  {
   "cell_type": "markdown",
   "metadata": {},
   "source": [
    "## 2.2.b Clean Vaccination Data"
   ]
  },
  {
   "cell_type": "code",
   "execution_count": 12,
   "metadata": {},
   "outputs": [],
   "source": [
    "#Get a list of all the states for which the website has vaccination data\n",
    "states_driver = webdriver.Chrome(executable_path=r\"chromedriver.exe\")\n",
    "states_driver.get(\"https://www.aap.org/en-us/advocacy-and-policy/aap-health-initiatives/immunizations/Pages/Across-America.aspx\")\n",
    "\n",
    "html_for_states=states_driver.page_source\n",
    "\n",
    "states_driver.quit()\n",
    "state_soup=bs4.BeautifulSoup(html_for_states, \"html.parser\")\n",
    "states=state_soup.select('#svg-us > g.states-group > path')\n",
    "\n",
    "states_list=[]\n",
    "for i in range(len(states)-1):\n",
    "    new_state=states[i].get('data-name')\n",
    "    states_list.append(new_state)\n",
    "\n",
    "#Eliminate States that are throwing errors\n",
    "states_not_working=['Connecticut', 'District of Columbia', 'Florida', 'Hawaii', 'Louisiana', 'Michigan', 'Minnesota', 'Ohio', 'Washington']\n",
    "states_to_scrape=list(set(states_list) - set(states_not_working))\n",
    "\n",
    "\n",
    "#Create an empty dataframe that will store scraped data\n",
    "df_vacci_clean=pd.DataFrame(columns=['State','%Children with combined 7-vaccine series','Religious Exemption allowed?', 'Philosophical Exemption allowed?'])\n",
    "\n",
    "\n",
    "#Open a browser, click on every state, obtain the source code, pull the % of children vaccinated/exemptions allowed, click on the close button, click on the next state and repeat\n",
    "vacci_clean_driver = webdriver.Chrome(executable_path=r\"chromedriver.exe\")\n",
    "vacci_clean_driver.maximize_window()\n",
    "vacci_clean_driver.get(\"https://www.aap.org/en-us/advocacy-and-policy/aap-health-initiatives/immunizations/Pages/Across-America.aspx\")\n",
    "\n",
    "for statename in states_to_scrape:\n",
    "    str1 = \"#svg-us > g.states-group > path[data-name=\\\"\"+statename +\"\\\"]\"\n",
    "    to_click = vacci_clean_driver.find_element_by_css_selector(str1)\n",
    "    to_click.click()\n",
    "    data_html=vacci_clean_driver.page_source\n",
    "    to_close=vacci_clean_driver.find_element_by_css_selector('#vaccination-ig > div.close-btn > img')\n",
    "    to_close.click()\n",
    "\n",
    "    data_soup=bs4.BeautifulSoup(data_html, \"html.parser\")\n",
    "    statistic_data_point=data_soup.select('#states-national-ig > div.chart-wrap > div:nth-of-type(3) > div:nth-of-type(2) > div.bar-chart.state-bar > p')\n",
    "    statistic=statistic_data_point[0].getText()\n",
    "\n",
    "    religious_data_point = data_soup.select('#vaccination-ig > div.exemptions-section > div:nth-of-type(2) > p.circle')\n",
    "    religious_stat=religious_data_point[0].getText()\n",
    "\n",
    "    philosophical_data_point = data_soup.select('#vaccination-ig > div.exemptions-section > div:nth-of-type(3) > p.circle')\n",
    "    philosophical_stat=philosophical_data_point[0].getText()\n",
    "#Store data points in the 'df_vacci_clean' dataframe \n",
    "    df_vacci_clean = df_vacci_clean.append({'State': statename, '%Children with combined 7-vaccine series': statistic, 'Religious Exemption allowed?': religious_stat, 'Philosophical Exemption allowed?': philosophical_stat},ignore_index=True)\n",
    "\n",
    "vacci_clean_driver.quit()\n",
    "\n",
    "#Write dataframe to excel\n",
    "current_book = load_workbook('group_04_data.xlsx')\n",
    "vacci_clean_writer=pd.ExcelWriter('group_04_data.xlsx', engine='openpyxl')\n",
    "vacci_clean_writer.book=current_book\n",
    "df_vacci_clean.to_excel(vacci_clean_writer, 'vaccination_clean', index=False)\n",
    "\n",
    "vacci_clean_writer.save()\n",
    "\n"
   ]
  },
  {
   "cell_type": "markdown",
   "metadata": {},
   "source": [
    "## 2.3 Download Education Data"
   ]
  },
  {
   "cell_type": "markdown",
   "metadata": {},
   "source": [
    "We are pulling the Public School Enrollment in 2013-14 data from the Civil Rights Data Collection (CRDC) using the CRDC API : https://api.ed.gov/data/crdc_enrollment_2013-14?per_page=100&api_key=FYOEBgpdzH5lF3mnd3Zpgho5IXUF1RhA05iBIoRR. \n",
    "This dataset gives information about the number of students enrolled in public education in 2013-14 by race/ethnicity, gender and program status. \n",
    "Since we are looking at different factors having an effect on immunization rates per state, one of the factors we decided to look at was the school enrollment per state data which can be a good estimator of the importance of education in a state. Thus, we are pulling the total number of public school enrollments per state using the CRDC API to include in our analysis. APIs for later years weren’t available so we decided to use the 2013-14 data as a good estimate of the total public school enrollments. \n",
    "Following is the code to download the raw and clean versions of the data:\n",
    "\n",
    "__Note: This step will take 5-7 minutes to complete.__"
   ]
  },
  {
   "cell_type": "code",
   "execution_count": 13,
   "metadata": {},
   "outputs": [],
   "source": [
    "from urllib.request import urlopen\n",
    "import json\n",
    "import numpy as np\n",
    "\n",
    "#Pulling data from the API\n",
    "data_set = []\n",
    "for i in range(1,11):\n",
    "    url = 'https://api.ed.gov/data/crdc_enrollment_2013-14?per_page=10000&page=' + str(i) + '&api_key=FYOEBgpdzH5lF3mnd3Zpgho5IXUF1RhA05iBIoRR'\n",
    "    r = urlopen(url).read().decode('UTF-8')\n",
    "    raw = json.loads(r)\n",
    "    final = raw['resources']\n",
    "    for resources in final:\n",
    "        data_set.append(resources)\n",
    "\n",
    "#Selecting keys and values we need \n",
    "new = []\n",
    "for object in data_set:\n",
    "    keys = ['LEA_STATE', 'SCH_NAME', 'LEA_NAME', 'TOT_ENR_F', 'TOT_ENR_M']\n",
    "    new1 = [object[k] for k in keys]\n",
    "    new.append(new1)\n",
    "\n",
    "#Converting list to array to dataframe\n",
    "new_array = np.asarray(new)\n",
    "new_array.reshape((95507,5))\n",
    "new_array2 = pd.DataFrame(new_array)\n",
    "new_df = pd.DataFrame(new_array, columns=['State', 'Sch_Name', 'Lea_Name', 'Tot_F', 'Tot_M'])\n",
    "df_edu = pd.DataFrame()\n",
    "df_edu[['State', 'Tot_F', 'Tot_M']] = new_df[['State', 'Tot_F', 'Tot_M']]\n",
    "df_edu['Tot_F'] = df_edu['Tot_F'].astype(np.int64)\n",
    "df_edu['Tot_M'] = df_edu['Tot_M'].astype(np.int64)\n",
    "df_edu = df_edu.groupby(['State'], as_index=False).sum()\n",
    "\n",
    "#Writing to excel\n",
    "current_book = load_workbook('group_04_data.xlsx')\n",
    "edu_writer=pd.ExcelWriter('group_04_data.xlsx', engine='openpyxl')\n",
    "edu_writer.book=current_book\n",
    "#Write raw data to excel\n",
    "new_array2.to_excel(edu_writer, 'education_raw', index=False) \n",
    "#Write clean data to excel\n",
    "df_edu.to_excel(edu_writer, 'education_clean', index=False) \n",
    "edu_writer.save()"
   ]
  },
  {
   "cell_type": "markdown",
   "metadata": {},
   "source": [
    "# 3. Data Vizualization and Interpretation"
   ]
  },
  {
   "cell_type": "markdown",
   "metadata": {},
   "source": [
    "## 3.1 Preparing a single table that contains all (medicaid, education and vaccination) data"
   ]
  },
  {
   "cell_type": "markdown",
   "metadata": {},
   "source": [
    "Once all the datasets are downloaded, they are combined using the State abbreviations as the primary key to create a single table containing all the information."
   ]
  },
  {
   "cell_type": "code",
   "execution_count": 14,
   "metadata": {},
   "outputs": [],
   "source": [
    "#Abbreviating State name\n",
    "us_state_abbrev = {'Alabama': 'AL','Alaska': 'AK','Arizona': 'AZ','Arkansas': 'AR','California': 'CA','Colorado': 'CO','Connecticut': 'CT','Delaware': 'DE','Florida': 'FL','Georgia': 'GA','Hawaii': 'HI','Idaho': 'ID','Illinois': 'IL','Indiana': 'IN','Iowa': 'IA','Kansas': 'KS','Kentucky': 'KY','Louisiana': 'LA','Maine': 'ME','Maryland': 'MD','Massachusetts': 'MA','Michigan': 'MI','Minnesota': 'MN','Mississippi': 'MS','Missouri': 'MO','Montana': 'MT','Nebraska': 'NE','Nevada': 'NV','New Hampshire': 'NH','New Jersey': 'NJ','New Mexico': 'NM','New York': 'NY','North Carolina': 'NC','North Dakota': 'ND','Ohio': 'OH','Oklahoma': 'OK','Oregon': 'OR','Pennsylvania': 'PA','Rhode Island': 'RI','South Carolina': 'SC','South Dakota': 'SD','Tennessee': 'TN','Texas': 'TX','Utah': 'UT','Vermont': 'VT','Virginia': 'VA','Washington': 'WA','West Virginia': 'WV','Wisconsin': 'WI','Wyoming': 'WY'}\n",
    "\n",
    "df_medicaid = pd.read_excel(\"group_04_data.xlsx\", sheet_name='medicaid_clean')\n",
    "df_medicaid=df_medicaid.replace({\"State\": us_state_abbrev})\n",
    "df_vacci_clean=df_vacci_clean.replace({\"State\": us_state_abbrev})"
   ]
  },
  {
   "cell_type": "code",
   "execution_count": 15,
   "metadata": {},
   "outputs": [],
   "source": [
    "#Preparing a single table that contains all data\n",
    "df_merged=df_medicaid.merge(df_vacci_clean, on='State')\n",
    "df_merged=df_merged.merge(df_edu, on='State',how='left')"
   ]
  },
  {
   "cell_type": "code",
   "execution_count": 16,
   "metadata": {},
   "outputs": [],
   "source": [
    "#Strip % so that the %of children vaccinated is just a number(Eg: make 68.8% to 68.8)\n",
    "df_merged['%Children with combined 7-vaccine series']=df_merged['%Children with combined 7-vaccine series'].str.rstrip('%')\n",
    "#Changing datatypes for ease of visualization\n",
    "df_merged['%Children with combined 7-vaccine series'] = df_merged['%Children with combined 7-vaccine series'].astype(np.float64)\n"
   ]
  },
  {
   "cell_type": "code",
   "execution_count": 17,
   "metadata": {},
   "outputs": [],
   "source": [
    "#Making the data within each column consistent\n",
    "df_merged.replace(to_replace=\"Yes (day, nursery, and preschools only)\", value=\"Yes\", inplace=True)"
   ]
  },
  {
   "cell_type": "code",
   "execution_count": 18,
   "metadata": {},
   "outputs": [
    {
     "data": {
      "text/html": [
       "<div>\n",
       "<style scoped>\n",
       "    .dataframe tbody tr th:only-of-type {\n",
       "        vertical-align: middle;\n",
       "    }\n",
       "\n",
       "    .dataframe tbody tr th {\n",
       "        vertical-align: top;\n",
       "    }\n",
       "\n",
       "    .dataframe thead th {\n",
       "        text-align: right;\n",
       "    }\n",
       "</style>\n",
       "<table border=\"1\" class=\"dataframe\">\n",
       "  <thead>\n",
       "    <tr style=\"text-align: right;\">\n",
       "      <th></th>\n",
       "      <th>State</th>\n",
       "      <th>State Medicare Funding FY 2016</th>\n",
       "      <th>%Children with combined 7-vaccine series</th>\n",
       "      <th>Religious Exemption allowed?</th>\n",
       "      <th>Philosophical Exemption allowed?</th>\n",
       "      <th>Tot_F</th>\n",
       "      <th>Tot_M</th>\n",
       "    </tr>\n",
       "  </thead>\n",
       "  <tbody>\n",
       "    <tr>\n",
       "      <th>0</th>\n",
       "      <td>AL</td>\n",
       "      <td>1693.404033</td>\n",
       "      <td>77.3</td>\n",
       "      <td>Yes</td>\n",
       "      <td>No</td>\n",
       "      <td>360005</td>\n",
       "      <td>382601</td>\n",
       "    </tr>\n",
       "    <tr>\n",
       "      <th>1</th>\n",
       "      <td>AK</td>\n",
       "      <td>683.269776</td>\n",
       "      <td>68.8</td>\n",
       "      <td>Yes</td>\n",
       "      <td>No</td>\n",
       "      <td>62496</td>\n",
       "      <td>66944</td>\n",
       "    </tr>\n",
       "    <tr>\n",
       "      <th>2</th>\n",
       "      <td>AZ</td>\n",
       "      <td>2791.036394</td>\n",
       "      <td>69.9</td>\n",
       "      <td>Yes</td>\n",
       "      <td>Yes</td>\n",
       "      <td>537764</td>\n",
       "      <td>565890</td>\n",
       "    </tr>\n",
       "    <tr>\n",
       "      <th>3</th>\n",
       "      <td>AR</td>\n",
       "      <td>1417.927479</td>\n",
       "      <td>67.8</td>\n",
       "      <td>Yes</td>\n",
       "      <td>Yes</td>\n",
       "      <td>235542</td>\n",
       "      <td>246027</td>\n",
       "    </tr>\n",
       "    <tr>\n",
       "      <th>4</th>\n",
       "      <td>CA</td>\n",
       "      <td>32193.542981</td>\n",
       "      <td>65.3</td>\n",
       "      <td>No</td>\n",
       "      <td>No</td>\n",
       "      <td>3045261</td>\n",
       "      <td>3216057</td>\n",
       "    </tr>\n",
       "  </tbody>\n",
       "</table>\n",
       "</div>"
      ],
      "text/plain": [
       "  State  State Medicare Funding FY 2016  \\\n",
       "0    AL                     1693.404033   \n",
       "1    AK                      683.269776   \n",
       "2    AZ                     2791.036394   \n",
       "3    AR                     1417.927479   \n",
       "4    CA                    32193.542981   \n",
       "\n",
       "   %Children with combined 7-vaccine series Religious Exemption allowed?  \\\n",
       "0                                      77.3                          Yes   \n",
       "1                                      68.8                          Yes   \n",
       "2                                      69.9                          Yes   \n",
       "3                                      67.8                          Yes   \n",
       "4                                      65.3                           No   \n",
       "\n",
       "  Philosophical Exemption allowed?    Tot_F    Tot_M  \n",
       "0                               No   360005   382601  \n",
       "1                               No    62496    66944  \n",
       "2                              Yes   537764   565890  \n",
       "3                              Yes   235542   246027  \n",
       "4                               No  3045261  3216057  "
      ]
     },
     "execution_count": 18,
     "metadata": {},
     "output_type": "execute_result"
    }
   ],
   "source": [
    "#Data preview\n",
    "df_merged.head(5)"
   ]
  },
  {
   "cell_type": "code",
   "execution_count": 19,
   "metadata": {},
   "outputs": [],
   "source": [
    "#Write combined data to workbook\n",
    "df_merged.to_excel(edu_writer, 'merged data', index=False) \n",
    "edu_writer.save()"
   ]
  },
  {
   "cell_type": "code",
   "execution_count": 42,
   "metadata": {},
   "outputs": [],
   "source": [
    "#Creating a processed dataframe for visualization by enhancing column names \n",
    "df_to_visualize = pd.DataFrame()\n",
    "df_to_visualize[['State', 'State Medicare Funding FY 2016', '%Children with combined 7-vaccine series', 'Total enrolled females', 'Total enrolled males', 'Religious Exemption allowed?', 'Philosophical Exemption allowed?']] = df_merged[['State', 'State Medicare Funding FY 2016', '%Children with combined 7-vaccine series', 'Tot_F', 'Tot_M', 'Religious Exemption allowed?', 'Philosophical Exemption allowed?']]\n",
    "\n",
    "#Write processed data to workbook\n",
    "df_to_visualize.to_excel(edu_writer, 'processed data', index=False) \n",
    "edu_writer.save()"
   ]
  },
  {
   "cell_type": "markdown",
   "metadata": {},
   "source": [
    "## 3.2 Exploratory Data Analysis"
   ]
  },
  {
   "cell_type": "markdown",
   "metadata": {},
   "source": [
    "We conducted exploratory data analysis using the newly created table. The exploratory data analysis is conducted by visualizing the available data through scatter plots, bar plots and choropleth maps to observe any trends between the various factors and immunization rates."
   ]
  },
  {
   "cell_type": "code",
   "execution_count": 25,
   "metadata": {},
   "outputs": [
    {
     "data": {
      "text/plain": [
       "'file://C:\\\\Users\\\\wildp\\\\Desktop\\\\CMU\\\\Spring 2018\\\\Data focussed python\\\\Final Project\\\\temp-plot.html'"
      ]
     },
     "execution_count": 25,
     "metadata": {},
     "output_type": "execute_result"
    }
   ],
   "source": [
    "#Vaccination% distribution across states\n",
    "import plotly as py\n",
    "import plotly.graph_objs as go\n",
    "\n",
    "vaccines_list = df_to_visualize['%Children with combined 7-vaccine series'].tolist()\n",
    "final_choropleth = dict(type='choropleth', locations=df_to_visualize['State'], locationmode='USA-states', colorscale=['Viridis'],\n",
    "                       z=vaccines_list)\n",
    "lyt = dict(title = '2016 USA States by Vaccination rates (%)', geo=dict(scope='usa'))\n",
    "fig = dict(data=final_choropleth, layout=lyt)\n",
    "map = go.Figure(data=[final_choropleth], layout=lyt)\n",
    "py.offline.plot(map)"
   ]
  },
  {
   "cell_type": "markdown",
   "metadata": {},
   "source": [
    "__Note: The choropleth graph for Vaccination% across States in the United States opens as a separate tab in your browser.__\n",
    "\n",
    "You can find the following observations when you hover over the choropleth map:\n",
    "1. The vaccination% is the highest in Massachussetts (85.3%) followed by Nebraska (80.6%) and Wisconsin (79.4%).\n",
    "2. The vaccination% is the lowest for Oregon (58.1%) followed by Wyoming (62.8%) and Montana (63.8%). \n",
    "3. Surprisingly, the vaccination rates for California lies in one of the lowest ten states in the US. "
   ]
  },
  {
   "cell_type": "code",
   "execution_count": 27,
   "metadata": {},
   "outputs": [
    {
     "name": "stdout",
     "output_type": "stream",
     "text": [
      "<seaborn.axisgrid.FacetGrid object at 0x000002B970506BE0>\n"
     ]
    },
    {
     "data": {
      "image/png": "[encoded data removed]",
      "text/plain": [
       "<matplotlib.figure.Figure at 0x2b9705069e8>"
      ]
     },
     "metadata": {},
     "output_type": "display_data"
    }
   ],
   "source": [
    "#Vaccination% against Medicaid Spending\n",
    "import seaborn as sns\n",
    "print(sns.lmplot(x='%Children with combined 7-vaccine series', y='State Medicare Funding FY 2016',data=df_to_visualize, fit_reg=False))"
   ]
  },
  {
   "cell_type": "markdown",
   "metadata": {},
   "source": [
    "The graph above shows no trend between State Medicaid Funding and % children vaccinated. The following can be seen in the graph:(1)States with higher vaccination rates(>75%) have less than 10,000 Medicaid funding, (2) States with lower vaccination rates (<75%) have a mix of more than 10,000 and less than 10,000 in Medicaid funding, (3) States with higher Medicaid funding (>10,000) have lower vaccination rates (<75%) and (4) States with lower Medicaid funding (<10,000) have a mix of lower and higher vaccination rates.\n",
    "\n",
    "\n",
    "Thus, we see that while there is an inverse trend indicated by 1 and 3, there is no trend across the entire graph/data. Therefore, we can conclude that State Medicaid Funding is not correlated with vaccination rates.\n"
   ]
  },
  {
   "cell_type": "code",
   "execution_count": 30,
   "metadata": {},
   "outputs": [
    {
     "name": "stdout",
     "output_type": "stream",
     "text": [
      "<seaborn.axisgrid.FacetGrid object at 0x000002B9709C4D30>\n"
     ]
    },
    {
     "data": {
      "image/png": "[encoded data removed]",
      "text/plain": [
       "<matplotlib.figure.Figure at 0x2b9709c4198>"
      ]
     },
     "metadata": {},
     "output_type": "display_data"
    }
   ],
   "source": [
    "#Vaccination% against Medicaid Spending sorted by Religious Exemptions\n",
    "print(sns.lmplot(x='%Children with combined 7-vaccine series', y='State Medicare Funding FY 2016',data=df_to_visualize, fit_reg=False, hue='Religious Exemption allowed?', palette=\"PuRd\"))"
   ]
  },
  {
   "cell_type": "code",
   "execution_count": 31,
   "metadata": {},
   "outputs": [
    {
     "name": "stdout",
     "output_type": "stream",
     "text": [
      "<seaborn.axisgrid.FacetGrid object at 0x000002B97083F320>\n"
     ]
    },
    {
     "data": {
      "image/png": "[encoded data removed]",
      "text/plain": [
       "<matplotlib.figure.Figure at 0x2b97098c3c8>"
      ]
     },
     "metadata": {},
     "output_type": "display_data"
    }
   ],
   "source": [
    "#Vaccination% against Medicaid Spending sorted by Philosophical Exemptions\n",
    "print(sns.lmplot(x='%Children with combined 7-vaccine series', y='State Medicare Funding FY 2016',data=df_to_visualize, fit_reg=False, hue='Philosophical Exemption allowed?', palette=\"YlGnBu\"))"
   ]
  },
  {
   "cell_type": "markdown",
   "metadata": {},
   "source": [
    "Among the states with and without religious exemptions, there is once again a lack of trend between the State Medicaid Funding and % children vaccinated. The same applies to states with and without philosophical exemptions. Thus, segregating the data by exemptions reinforces the lack of trend between State Medicaid Funding and % children vaccinated."
   ]
  },
  {
   "cell_type": "code",
   "execution_count": 32,
   "metadata": {
    "scrolled": true
   },
   "outputs": [
    {
     "name": "stdout",
     "output_type": "stream",
     "text": [
      "<seaborn.axisgrid.FacetGrid object at 0x000002B97083F668>\n"
     ]
    },
    {
     "data": {
      "image/png": "[encoded data removed]",
      "text/plain": [
       "<matplotlib.figure.Figure at 0x2b97083ff98>"
      ]
     },
     "metadata": {},
     "output_type": "display_data"
    }
   ],
   "source": [
    "#Vaccination% against Total female population by Public School Enrollment\n",
    "print(sns.lmplot(x='%Children with combined 7-vaccine series', y='Total enrolled females', data=df_to_visualize, fit_reg=False, palette=\"Greens\"))"
   ]
  },
  {
   "cell_type": "code",
   "execution_count": 34,
   "metadata": {
    "scrolled": true
   },
   "outputs": [
    {
     "name": "stdout",
     "output_type": "stream",
     "text": [
      "<seaborn.axisgrid.FacetGrid object at 0x000002B93126BD68>\n"
     ]
    },
    {
     "data": {
      "image/png": "[encoded data removed]",
      "text/plain": [
       "<matplotlib.figure.Figure at 0x2b93126b470>"
      ]
     },
     "metadata": {},
     "output_type": "display_data"
    }
   ],
   "source": [
    "#Vaccination% against Total male population by Public School Enrollment\n",
    "print(sns.lmplot(x='%Children with combined 7-vaccine series', y='Total enrolled males', data=df_to_visualize, fit_reg=False, palette=\"Oranges\"))"
   ]
  },
  {
   "cell_type": "markdown",
   "metadata": {},
   "source": [
    "The graphs above again show no linear trends when it comes to looking at the effect of total female and male educated population across states. \n",
    "1. California has the highest number of public school enrollment for both males and females but has lower vaccination rates as compared to other states.\n",
    "2. States with lower public school enrollment have higher vaccination rates (For eg: Nebraska, etc.)\n",
    "Thus, we can conclude that there are no trends when we try to correlate the vaccination data with the total public school enrollments in the United States. But our analysis could've been skewed because we took into consideration the absolute numbers of enrollments and not percentages. These absolute numbers will vary as different states have different areas Eg: California is much bigger than states like Rhode Island, Connecticut, etc. Density would've been a better measure but the information was not publicly available. "
   ]
  },
  {
   "cell_type": "code",
   "execution_count": 35,
   "metadata": {},
   "outputs": [
    {
     "data": {
      "image/png": "[encoded data removed]",
      "text/plain": [
       "<matplotlib.figure.Figure at 0x2b9712d81d0>"
      ]
     },
     "metadata": {},
     "output_type": "display_data"
    }
   ],
   "source": [
    "#Religious Exemptions plotted against avg%children vaccinated\n",
    "ax_religious=sns.barplot(x='Religious Exemption allowed?', y='%Children with combined 7-vaccine series', data=df_to_visualize,palette=\"PuRd\", errwidth=0)\n",
    "for p in ax_religious.patches:\n",
    "    ax_religious.text(p.get_x() + p.get_width()/2., p.get_height(), '%d' % int(p.get_height()), \n",
    "            fontsize=12, color='black', ha='center', va='bottom')\n"
   ]
  },
  {
   "cell_type": "markdown",
   "metadata": {},
   "source": [
    "In the bar chart above, we observe that religious exemptions do not encourage lower vaccination rates (as opposed to intuition). The average %children vaccinated is higher for states that do allow for religious exemptions. This is probably due to the large difference in the number of states between the states with(n=39) and without(n=3) religious exemptions. "
   ]
  },
  {
   "cell_type": "code",
   "execution_count": 36,
   "metadata": {},
   "outputs": [
    {
     "data": {
      "image/png": "[encoded data removed]",
      "text/plain": [
       "<matplotlib.figure.Figure at 0x2b972679da0>"
      ]
     },
     "metadata": {},
     "output_type": "display_data"
    }
   ],
   "source": [
    "#Philosophical Exemptions plotted against avg%children vaccinated\n",
    "ax_philosophical=sns.barplot(x='Philosophical Exemption allowed?', y='%Children with combined 7-vaccine series', data=df_to_visualize, palette=\"YlGnBu\", errwidth=0)\n",
    "for p in ax_philosophical.patches:\n",
    "    ax_philosophical.text(p.get_x() + p.get_width()/2., p.get_height(), '%d' % int(p.get_height()), \n",
    "            fontsize=12, color='black', ha='center', va='bottom')"
   ]
  },
  {
   "cell_type": "markdown",
   "metadata": {},
   "source": [
    "In the bar chart above, we see that the states with philosophical exemptions have a lower average %children vaccinated. In order to determine if the difference is statistically significant, we need to find out the p-value."
   ]
  },
  {
   "cell_type": "code",
   "execution_count": 37,
   "metadata": {},
   "outputs": [
    {
     "name": "stdout",
     "output_type": "stream",
     "text": [
      "p-value = 0.261\n"
     ]
    }
   ],
   "source": [
    "#finding p-value to see if the difference is statistically different\n",
    "import scipy.stats as stats\n",
    "df_with_phil_exemption= df_to_visualize[df_to_visualize['Philosophical Exemption allowed?'] == 'Yes']\n",
    "sample_with_exemption=list(df_with_phil_exemption['%Children with combined 7-vaccine series'])\n",
    "df_no_phil_exemption= df_to_visualize[df_to_visualize['Philosophical Exemption allowed?'] == 'No']\n",
    "sample_no_exemption=list(df_no_phil_exemption['%Children with combined 7-vaccine series'])\n",
    "t_val, p_val=stats.ttest_ind(sample_with_exemption, sample_no_exemption)\n",
    "print (\"p-value =\",\"%.3f\" % p_val)"
   ]
  },
  {
   "cell_type": "markdown",
   "metadata": {},
   "source": [
    "The p-value is 0.26 which is much greater than 0.05. This means that the difference between the two groups has more than a 5% probability of occurring by chance alone. Thus, the difference between the average %children vaccinated between states with and without philosophical exemptions is not significant. This tells us that allowing for philosophical exemptions does not influence the % children vaccinated. "
   ]
  },
  {
   "cell_type": "markdown",
   "metadata": {},
   "source": [
    "## 3.3 Statistical Analysis using Regression"
   ]
  },
  {
   "cell_type": "markdown",
   "metadata": {},
   "source": [
    "Finally, to validate our Exploratory data analysis we ran a multiple regression with %immunization rates as the dependent variable and other continuous variables like Public school enrollment, and medicare funding as the independent variables. "
   ]
  },
  {
   "cell_type": "code",
   "execution_count": 38,
   "metadata": {},
   "outputs": [
    {
     "name": "stderr",
     "output_type": "stream",
     "text": [
      "C:\\Users\\wildp\\Anaconda3\\lib\\site-packages\\statsmodels\\compat\\pandas.py:56: FutureWarning:\n",
      "\n",
      "The pandas.core.datetools module is deprecated and will be removed in a future version. Please use the pandas.tseries module instead.\n",
      "\n"
     ]
    },
    {
     "data": {
      "text/html": [
       "<table class=\"simpletable\">\n",
       "<caption>OLS Regression Results</caption>\n",
       "<tr>\n",
       "  <th>Dep. Variable:</th>    <td>%Children with combined 7-vaccine series</td> <th>  R-squared:         </th> <td>   0.022</td>\n",
       "</tr>\n",
       "<tr>\n",
       "  <th>Model:</th>                               <td>OLS</td>                   <th>  Adj. R-squared:    </th> <td>  -0.055</td>\n",
       "</tr>\n",
       "<tr>\n",
       "  <th>Method:</th>                         <td>Least Squares</td>              <th>  F-statistic:       </th> <td>  0.2825</td>\n",
       "</tr>\n",
       "<tr>\n",
       "  <th>Date:</th>                         <td>Sun, 06 May 2018</td>             <th>  Prob (F-statistic):</th>  <td> 0.838</td> \n",
       "</tr>\n",
       "<tr>\n",
       "  <th>Time:</th>                             <td>15:22:50</td>                 <th>  Log-Likelihood:    </th> <td> -129.66</td>\n",
       "</tr>\n",
       "<tr>\n",
       "  <th>No. Observations:</th>                  <td>    42</td>                  <th>  AIC:               </th> <td>   267.3</td>\n",
       "</tr>\n",
       "<tr>\n",
       "  <th>Df Residuals:</th>                      <td>    38</td>                  <th>  BIC:               </th> <td>   274.3</td>\n",
       "</tr>\n",
       "<tr>\n",
       "  <th>Df Model:</th>                          <td>     3</td>                  <th>                     </th>     <td> </td>   \n",
       "</tr>\n",
       "<tr>\n",
       "  <th>Covariance Type:</th>                  <td>nonrobust</td>                <th>                     </th>     <td> </td>   \n",
       "</tr>\n",
       "</table>\n",
       "<table class=\"simpletable\">\n",
       "<tr>\n",
       "                 <td></td>                   <th>coef</th>     <th>std err</th>      <th>t</th>      <th>P>|t|</th>  <th>[0.025</th>    <th>0.975]</th>  \n",
       "</tr>\n",
       "<tr>\n",
       "  <th>const</th>                          <td>   72.4035</td> <td>    1.178</td> <td>   61.452</td> <td> 0.000</td> <td>   70.018</td> <td>   74.789</td>\n",
       "</tr>\n",
       "<tr>\n",
       "  <th>Total enrolled females</th>         <td>    0.0003</td> <td>    0.001</td> <td>    0.438</td> <td> 0.664</td> <td>   -0.001</td> <td>    0.001</td>\n",
       "</tr>\n",
       "<tr>\n",
       "  <th>Total enrolled males</th>           <td>   -0.0002</td> <td>    0.001</td> <td>   -0.442</td> <td> 0.661</td> <td>   -0.001</td> <td>    0.001</td>\n",
       "</tr>\n",
       "<tr>\n",
       "  <th>State Medicare Funding FY 2016</th> <td>    0.0002</td> <td>    0.000</td> <td>    0.548</td> <td> 0.587</td> <td>   -0.000</td> <td>    0.001</td>\n",
       "</tr>\n",
       "</table>\n",
       "<table class=\"simpletable\">\n",
       "<tr>\n",
       "  <th>Omnibus:</th>       <td> 0.364</td> <th>  Durbin-Watson:     </th> <td>   1.928</td>\n",
       "</tr>\n",
       "<tr>\n",
       "  <th>Prob(Omnibus):</th> <td> 0.833</td> <th>  Jarque-Bera (JB):  </th> <td>   0.126</td>\n",
       "</tr>\n",
       "<tr>\n",
       "  <th>Skew:</th>          <td>-0.134</td> <th>  Prob(JB):          </th> <td>   0.939</td>\n",
       "</tr>\n",
       "<tr>\n",
       "  <th>Kurtosis:</th>      <td> 3.001</td> <th>  Cond. No.          </th> <td>1.51e+06</td>\n",
       "</tr>\n",
       "</table>"
      ],
      "text/plain": [
       "<class 'statsmodels.iolib.summary.Summary'>\n",
       "\"\"\"\n",
       "                                       OLS Regression Results                                       \n",
       "====================================================================================================\n",
       "Dep. Variable:     %Children with combined 7-vaccine series   R-squared:                       0.022\n",
       "Model:                                                  OLS   Adj. R-squared:                 -0.055\n",
       "Method:                                       Least Squares   F-statistic:                    0.2825\n",
       "Date:                                      Sun, 06 May 2018   Prob (F-statistic):              0.838\n",
       "Time:                                              15:22:50   Log-Likelihood:                -129.66\n",
       "No. Observations:                                        42   AIC:                             267.3\n",
       "Df Residuals:                                            38   BIC:                             274.3\n",
       "Df Model:                                                 3                                         \n",
       "Covariance Type:                                  nonrobust                                         \n",
       "==================================================================================================\n",
       "                                     coef    std err          t      P>|t|      [0.025      0.975]\n",
       "--------------------------------------------------------------------------------------------------\n",
       "const                             72.4035      1.178     61.452      0.000      70.018      74.789\n",
       "Total enrolled females             0.0003      0.001      0.438      0.664      -0.001       0.001\n",
       "Total enrolled males              -0.0002      0.001     -0.442      0.661      -0.001       0.001\n",
       "State Medicare Funding FY 2016     0.0002      0.000      0.548      0.587      -0.000       0.001\n",
       "==============================================================================\n",
       "Omnibus:                        0.364   Durbin-Watson:                   1.928\n",
       "Prob(Omnibus):                  0.833   Jarque-Bera (JB):                0.126\n",
       "Skew:                          -0.134   Prob(JB):                        0.939\n",
       "Kurtosis:                       3.001   Cond. No.                     1.51e+06\n",
       "==============================================================================\n",
       "\n",
       "Warnings:\n",
       "[1] Standard Errors assume that the covariance matrix of the errors is correctly specified.\n",
       "[2] The condition number is large, 1.51e+06. This might indicate that there are\n",
       "strong multicollinearity or other numerical problems.\n",
       "\"\"\""
      ]
     },
     "execution_count": 38,
     "metadata": {},
     "output_type": "execute_result"
    }
   ],
   "source": [
    "#Multiple regression to see the effect of total female and male population with public school enrollment on vaccination rates\n",
    "import statsmodels.api as sm\n",
    "df_reg = pd.DataFrame(df_to_visualize, columns=[\"Total enrolled females\", \"Total enrolled males\", \"State Medicare Funding FY 2016\", \"%Children with combined 7-vaccine series\"])\n",
    "X = df_reg[[\"Total enrolled females\", \"Total enrolled males\", \"State Medicare Funding FY 2016\"]] #Input variables\n",
    "target = pd.DataFrame(df_to_visualize, columns=[\"%Children with combined 7-vaccine series\"])\n",
    "X = sm.add_constant(X)\n",
    "y = target[\"%Children with combined 7-vaccine series\"]\n",
    "model1 = sm.OLS(y,X).fit()\n",
    "predictions = model1.predict(X)\n",
    "model1.summary()"
   ]
  },
  {
   "cell_type": "markdown",
   "metadata": {},
   "source": [
    "Looking at our multiple regression results, we can reconfirm that there is no statistically significant correlation between any of the factors considered and the %immunization rates in the United States as the p-values for all the variables are >0.05."
   ]
  },
  {
   "cell_type": "code",
   "execution_count": 39,
   "metadata": {},
   "outputs": [
    {
     "data": {
      "text/plain": [
       "<matplotlib.axes._subplots.AxesSubplot at 0x2b971316cc0>"
      ]
     },
     "execution_count": 39,
     "metadata": {},
     "output_type": "execute_result"
    },
    {
     "data": {
      "image/png": "[encoded data removed]",
      "text/plain": [
       "<matplotlib.figure.Figure at 0x2b9720af780>"
      ]
     },
     "metadata": {},
     "output_type": "display_data"
    }
   ],
   "source": [
    "# calculate the correlation matrix\n",
    "corr = df_reg.corr()\n",
    "# plot the heatmap\n",
    "sns.heatmap(corr,\n",
    "        linecolor='black',\n",
    "        xticklabels=corr.columns,\n",
    "        yticklabels=corr.columns)"
   ]
  },
  {
   "cell_type": "markdown",
   "metadata": {},
   "source": [
    "Looking at the Correlation matrix, you can tell that there is no correlation between any of the continuous variables that we selected and %immunization. "
   ]
  },
  {
   "cell_type": "markdown",
   "metadata": {},
   "source": [
    "# 4. Project Summary"
   ]
  },
  {
   "cell_type": "markdown",
   "metadata": {},
   "source": [
    "Immune Boosters Inc. evaluated the effect of various factor such as Education, Religious Exemption, Philosophical Exemption and Medicaid Spending on immunization rates across the United States. \n",
    "Based on our extensive analysis, we concluded that none of the factors impact immunization rates. \n",
    "Nonetheless, the project helped us develop a platform prototype which can be easily replicated using other social determinants factors like Ethnicity, Housing Occupancy, Poverty rates,etc. which might have a statistically significant effect on immunization rates. \n",
    "Thus, we would have to look at more factors to propose any concrete action items and policy changes regarding immunization."
   ]
  },
  {
   "cell_type": "markdown",
   "metadata": {},
   "source": [
    "# 5. Lessons Learned"
   ]
  },
  {
   "cell_type": "markdown",
   "metadata": {},
   "source": [
    "__Reflection of group members__\n",
    "\n",
    "Ayushi: I started off in the class with no experience in python and had taken an introductory course in SQL programming before. The first few course modules helped me get comfortable with python and after the first two weeks I started to enjoy coding in python. The class labs helped me with understanding the nuances of certain functions but it was the project that helped me code in a specific context to achieve a tangible goal. \n",
    "I remember sitting down in office hours and going over the interactive nature of one of my website data sources and how beautiful soup would be inadequate to extract data from the web page (https://www.aap.org/en-us/advocacy-and-policy/aap-health-initiatives/immunizations/Pages/Across-America.aspx). While the final excel is a clean and organized data that seems only “moderately complex”, obtaining the data took me a couple of weeks. The website uses a javascript at the back end and extracting information from there wasn’t really an option. That is when I decided to learn and use the selenium library to automate the process of clicking on a state, obtaining the source code, closing out of that pop up, clicking on the next state and so on. My selenium experience was both challenging and rewarding but it helped me understand the infinite possibilities within the world of data scraping. \n",
    "This course has helped me appreciate python, its advantages and its use in healthcare. As an aspiring healthcare data analyst, I am glad I took this course and chose vaccination as my project topic.\n",
    "\n",
    "Aarti: This is my final semester and I have taken coursework in R and SAS prior to this. This class not only helped me get comfortable with python as a language but also helped me translate many concepts I've learned in other coding classes to this course. It was exciting to learn about the syntax difference between R and python. \n",
    "My coding language of preference has shifted from R to Python as it is much easier to work with bigger datasets using Python. Probably for pure data analytics, I will still prefer R over Python but when it comes to programming, Python is a much better tool as it lets you automate a lot of things. One of the biggest concept that I learnt over the course is web scraping and pulling data using API. Web scraping is so much more convenient using Python and I was introduced to many things I thought were impossible to do. Overall, I'm glad I took this course before I enter the world of Consulting. "
   ]
  }
 ],
 "metadata": {
  "kernelspec": {
   "display_name": "Python 3",
   "language": "python",
   "name": "python3"
  },
  "language_info": {
   "codemirror_mode": {
    "name": "ipython",
    "version": 3
   },
   "file_extension": ".py",
   "mimetype": "text/x-python",
   "name": "python",
   "nbconvert_exporter": "python",
   "pygments_lexer": "ipython3",
   "version": "3.6.4"
  }
 },
 "nbformat": 4,
 "nbformat_minor": 2
}
